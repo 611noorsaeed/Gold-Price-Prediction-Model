{
 "cells": [
  {
   "cell_type": "code",
   "execution_count": 53,
   "id": "6132cba1",
   "metadata": {},
   "outputs": [],
   "source": [
    "import numpy as np\n",
    "import pandas as pd\n",
    "import matplotlib.pyplot as plt\n",
    "import seaborn as sns\n",
    "from sklearn.model_selection import train_test_split\n",
    "from sklearn.ensemble import RandomForestRegressor\n",
    "from sklearn.metrics import r2_score"
   ]
  },
  {
   "cell_type": "code",
   "execution_count": 38,
   "id": "494d14eb",
   "metadata": {},
   "outputs": [],
   "source": [
    "gold = pd.read_csv('gld_price_data.csv')"
   ]
  },
  {
   "cell_type": "code",
   "execution_count": 39,
   "id": "fb6ce913",
   "metadata": {},
   "outputs": [
    {
     "data": {
      "text/html": [
       "<div>\n",
       "<style scoped>\n",
       "    .dataframe tbody tr th:only-of-type {\n",
       "        vertical-align: middle;\n",
       "    }\n",
       "\n",
       "    .dataframe tbody tr th {\n",
       "        vertical-align: top;\n",
       "    }\n",
       "\n",
       "    .dataframe thead th {\n",
       "        text-align: right;\n",
       "    }\n",
       "</style>\n",
       "<table border=\"1\" class=\"dataframe\">\n",
       "  <thead>\n",
       "    <tr style=\"text-align: right;\">\n",
       "      <th></th>\n",
       "      <th>Date</th>\n",
       "      <th>SPX</th>\n",
       "      <th>GLD</th>\n",
       "      <th>USO</th>\n",
       "      <th>SLV</th>\n",
       "      <th>EUR/USD</th>\n",
       "    </tr>\n",
       "  </thead>\n",
       "  <tbody>\n",
       "    <tr>\n",
       "      <th>0</th>\n",
       "      <td>1/2/2008</td>\n",
       "      <td>1447.160034</td>\n",
       "      <td>84.860001</td>\n",
       "      <td>78.470001</td>\n",
       "      <td>15.180</td>\n",
       "      <td>1.471692</td>\n",
       "    </tr>\n",
       "    <tr>\n",
       "      <th>1</th>\n",
       "      <td>1/3/2008</td>\n",
       "      <td>1447.160034</td>\n",
       "      <td>85.570000</td>\n",
       "      <td>78.370003</td>\n",
       "      <td>15.285</td>\n",
       "      <td>1.474491</td>\n",
       "    </tr>\n",
       "    <tr>\n",
       "      <th>2</th>\n",
       "      <td>1/4/2008</td>\n",
       "      <td>1411.630005</td>\n",
       "      <td>85.129997</td>\n",
       "      <td>77.309998</td>\n",
       "      <td>15.167</td>\n",
       "      <td>1.475492</td>\n",
       "    </tr>\n",
       "    <tr>\n",
       "      <th>3</th>\n",
       "      <td>1/7/2008</td>\n",
       "      <td>1416.180054</td>\n",
       "      <td>84.769997</td>\n",
       "      <td>75.500000</td>\n",
       "      <td>15.053</td>\n",
       "      <td>1.468299</td>\n",
       "    </tr>\n",
       "    <tr>\n",
       "      <th>4</th>\n",
       "      <td>1/8/2008</td>\n",
       "      <td>1390.189941</td>\n",
       "      <td>86.779999</td>\n",
       "      <td>76.059998</td>\n",
       "      <td>15.590</td>\n",
       "      <td>1.557099</td>\n",
       "    </tr>\n",
       "  </tbody>\n",
       "</table>\n",
       "</div>"
      ],
      "text/plain": [
       "       Date          SPX        GLD        USO     SLV   EUR/USD\n",
       "0  1/2/2008  1447.160034  84.860001  78.470001  15.180  1.471692\n",
       "1  1/3/2008  1447.160034  85.570000  78.370003  15.285  1.474491\n",
       "2  1/4/2008  1411.630005  85.129997  77.309998  15.167  1.475492\n",
       "3  1/7/2008  1416.180054  84.769997  75.500000  15.053  1.468299\n",
       "4  1/8/2008  1390.189941  86.779999  76.059998  15.590  1.557099"
      ]
     },
     "execution_count": 39,
     "metadata": {},
     "output_type": "execute_result"
    }
   ],
   "source": [
    "gold.head()"
   ]
  },
  {
   "cell_type": "markdown",
   "id": "9099eb9e",
   "metadata": {},
   "source": [
    "# getting some basic informations about the data"
   ]
  },
  {
   "cell_type": "code",
   "execution_count": 40,
   "id": "c14a001e",
   "metadata": {},
   "outputs": [
    {
     "data": {
      "text/plain": [
       "(2290, 6)"
      ]
     },
     "execution_count": 40,
     "metadata": {},
     "output_type": "execute_result"
    }
   ],
   "source": [
    "gold.shape"
   ]
  },
  {
   "cell_type": "code",
   "execution_count": 41,
   "id": "6858a6f3",
   "metadata": {},
   "outputs": [
    {
     "name": "stdout",
     "output_type": "stream",
     "text": [
      "<class 'pandas.core.frame.DataFrame'>\n",
      "RangeIndex: 2290 entries, 0 to 2289\n",
      "Data columns (total 6 columns):\n",
      " #   Column   Non-Null Count  Dtype  \n",
      "---  ------   --------------  -----  \n",
      " 0   Date     2290 non-null   object \n",
      " 1   SPX      2290 non-null   float64\n",
      " 2   GLD      2290 non-null   float64\n",
      " 3   USO      2290 non-null   float64\n",
      " 4   SLV      2290 non-null   float64\n",
      " 5   EUR/USD  2290 non-null   float64\n",
      "dtypes: float64(5), object(1)\n",
      "memory usage: 107.5+ KB\n"
     ]
    }
   ],
   "source": [
    "gold.info()"
   ]
  },
  {
   "cell_type": "code",
   "execution_count": 42,
   "id": "74c14828",
   "metadata": {},
   "outputs": [
    {
     "data": {
      "text/plain": [
       "Date       0\n",
       "SPX        0\n",
       "GLD        0\n",
       "USO        0\n",
       "SLV        0\n",
       "EUR/USD    0\n",
       "dtype: int64"
      ]
     },
     "execution_count": 42,
     "metadata": {},
     "output_type": "execute_result"
    }
   ],
   "source": [
    "# checking the number of missing values\n",
    "gold.isnull().sum()"
   ]
  },
  {
   "cell_type": "code",
   "execution_count": 43,
   "id": "6ac57501",
   "metadata": {},
   "outputs": [
    {
     "data": {
      "text/html": [
       "<div>\n",
       "<style scoped>\n",
       "    .dataframe tbody tr th:only-of-type {\n",
       "        vertical-align: middle;\n",
       "    }\n",
       "\n",
       "    .dataframe tbody tr th {\n",
       "        vertical-align: top;\n",
       "    }\n",
       "\n",
       "    .dataframe thead th {\n",
       "        text-align: right;\n",
       "    }\n",
       "</style>\n",
       "<table border=\"1\" class=\"dataframe\">\n",
       "  <thead>\n",
       "    <tr style=\"text-align: right;\">\n",
       "      <th></th>\n",
       "      <th>SPX</th>\n",
       "      <th>GLD</th>\n",
       "      <th>USO</th>\n",
       "      <th>SLV</th>\n",
       "      <th>EUR/USD</th>\n",
       "    </tr>\n",
       "  </thead>\n",
       "  <tbody>\n",
       "    <tr>\n",
       "      <th>count</th>\n",
       "      <td>2290.000000</td>\n",
       "      <td>2290.000000</td>\n",
       "      <td>2290.000000</td>\n",
       "      <td>2290.000000</td>\n",
       "      <td>2290.000000</td>\n",
       "    </tr>\n",
       "    <tr>\n",
       "      <th>mean</th>\n",
       "      <td>1654.315776</td>\n",
       "      <td>122.732875</td>\n",
       "      <td>31.842221</td>\n",
       "      <td>20.084997</td>\n",
       "      <td>1.283653</td>\n",
       "    </tr>\n",
       "    <tr>\n",
       "      <th>std</th>\n",
       "      <td>519.111540</td>\n",
       "      <td>23.283346</td>\n",
       "      <td>19.523517</td>\n",
       "      <td>7.092566</td>\n",
       "      <td>0.131547</td>\n",
       "    </tr>\n",
       "    <tr>\n",
       "      <th>min</th>\n",
       "      <td>676.530029</td>\n",
       "      <td>70.000000</td>\n",
       "      <td>7.960000</td>\n",
       "      <td>8.850000</td>\n",
       "      <td>1.039047</td>\n",
       "    </tr>\n",
       "    <tr>\n",
       "      <th>25%</th>\n",
       "      <td>1239.874969</td>\n",
       "      <td>109.725000</td>\n",
       "      <td>14.380000</td>\n",
       "      <td>15.570000</td>\n",
       "      <td>1.171313</td>\n",
       "    </tr>\n",
       "    <tr>\n",
       "      <th>50%</th>\n",
       "      <td>1551.434998</td>\n",
       "      <td>120.580002</td>\n",
       "      <td>33.869999</td>\n",
       "      <td>17.268500</td>\n",
       "      <td>1.303297</td>\n",
       "    </tr>\n",
       "    <tr>\n",
       "      <th>75%</th>\n",
       "      <td>2073.010070</td>\n",
       "      <td>132.840004</td>\n",
       "      <td>37.827501</td>\n",
       "      <td>22.882500</td>\n",
       "      <td>1.369971</td>\n",
       "    </tr>\n",
       "    <tr>\n",
       "      <th>max</th>\n",
       "      <td>2872.870117</td>\n",
       "      <td>184.589996</td>\n",
       "      <td>117.480003</td>\n",
       "      <td>47.259998</td>\n",
       "      <td>1.598798</td>\n",
       "    </tr>\n",
       "  </tbody>\n",
       "</table>\n",
       "</div>"
      ],
      "text/plain": [
       "               SPX          GLD          USO          SLV      EUR/USD\n",
       "count  2290.000000  2290.000000  2290.000000  2290.000000  2290.000000\n",
       "mean   1654.315776   122.732875    31.842221    20.084997     1.283653\n",
       "std     519.111540    23.283346    19.523517     7.092566     0.131547\n",
       "min     676.530029    70.000000     7.960000     8.850000     1.039047\n",
       "25%    1239.874969   109.725000    14.380000    15.570000     1.171313\n",
       "50%    1551.434998   120.580002    33.869999    17.268500     1.303297\n",
       "75%    2073.010070   132.840004    37.827501    22.882500     1.369971\n",
       "max    2872.870117   184.589996   117.480003    47.259998     1.598798"
      ]
     },
     "execution_count": 43,
     "metadata": {},
     "output_type": "execute_result"
    }
   ],
   "source": [
    "# getting the statistical measures of the data\n",
    "gold.describe()"
   ]
  },
  {
   "cell_type": "markdown",
   "id": "68ba2e3e",
   "metadata": {},
   "source": [
    "# Correlation:\n",
    "\n",
    "Positive Correlation                                    \n",
    "Negative Correlation"
   ]
  },
  {
   "cell_type": "code",
   "execution_count": 44,
   "id": "f95964a8",
   "metadata": {},
   "outputs": [],
   "source": [
    "correlation = gold.corr()"
   ]
  },
  {
   "cell_type": "code",
   "execution_count": 46,
   "id": "69061fdb",
   "metadata": {},
   "outputs": [
    {
     "data": {
      "text/plain": [
       "<AxesSubplot:>"
      ]
     },
     "execution_count": 46,
     "metadata": {},
     "output_type": "execute_result"
    },
    {
     "data": {
      "image/png": "[encoded data removed]",
      "text/plain": [
       "<Figure size 600x600 with 2 Axes>"
      ]
     },
     "metadata": {},
     "output_type": "display_data"
    }
   ],
   "source": [
    "plt.figure(figsize=(6,6))\n",
    "sns.heatmap(correlation,cbar=True,square=True,annot=True,annot_kws={\"size\":8},cmap=\"plasma\")"
   ]
  },
  {
   "cell_type": "code",
   "execution_count": null,
   "id": "c254ebee",
   "metadata": {},
   "outputs": [],
   "source": []
  },
  {
   "cell_type": "code",
   "execution_count": 47,
   "id": "834d5895",
   "metadata": {},
   "outputs": [
    {
     "name": "stdout",
     "output_type": "stream",
     "text": [
      "SPX        0.049345\n",
      "GLD        1.000000\n",
      "USO       -0.186360\n",
      "SLV        0.866632\n",
      "EUR/USD   -0.024375\n",
      "Name: GLD, dtype: float64\n"
     ]
    }
   ],
   "source": [
    "print(correlation['GLD'])"
   ]
  },
  {
   "cell_type": "code",
   "execution_count": 16,
   "id": "4faafd42",
   "metadata": {},
   "outputs": [],
   "source": [
    "# checking the distribution of the GLD Price"
   ]
  },
  {
   "cell_type": "code",
   "execution_count": 48,
   "id": "9610fdbb",
   "metadata": {},
   "outputs": [
    {
     "data": {
      "text/plain": [
       "<seaborn.axisgrid.FacetGrid at 0x2def6f62080>"
      ]
     },
     "execution_count": 48,
     "metadata": {},
     "output_type": "execute_result"
    },
    {
     "data": {
      "image/png": "[encoded data removed]",
      "text/plain": [
       "<Figure size 500x500 with 1 Axes>"
      ]
     },
     "metadata": {},
     "output_type": "display_data"
    }
   ],
   "source": [
    "sns.displot(gold['GLD'],color='green')"
   ]
  },
  {
   "cell_type": "markdown",
   "id": "70235619",
   "metadata": {},
   "source": [
    "# Splitting the Features and Target"
   ]
  },
  {
   "cell_type": "code",
   "execution_count": 49,
   "id": "671ca93c",
   "metadata": {},
   "outputs": [],
   "source": [
    "X = gold.drop(['Date','GLD'],axis=1)\n",
    "y = gold['GLD']"
   ]
  },
  {
   "cell_type": "code",
   "execution_count": 51,
   "id": "80e694c8",
   "metadata": {},
   "outputs": [
    {
     "data": {
      "text/plain": [
       "(2290,)"
      ]
     },
     "execution_count": 51,
     "metadata": {},
     "output_type": "execute_result"
    }
   ],
   "source": [
    "y.shape"
   ]
  },
  {
   "cell_type": "markdown",
   "id": "2ddb4514",
   "metadata": {},
   "source": [
    "# training the model"
   ]
  },
  {
   "cell_type": "code",
   "execution_count": 52,
   "id": "9e29f289",
   "metadata": {},
   "outputs": [],
   "source": [
    "X_train, X_test, y_train, y_test = train_test_split(X, y, test_size=0.2, random_state=42)"
   ]
  },
  {
   "cell_type": "code",
   "execution_count": 29,
   "id": "fcc71044",
   "metadata": {},
   "outputs": [
    {
     "name": "stdout",
     "output_type": "stream",
     "text": [
      "[168.42049899  81.92899986 116.06290025 127.47270069 120.76800168\n",
      " 154.816098   150.63449813 126.24160026 117.61229858 125.87560075\n",
      " 116.7799005  172.3509004  141.4206977  167.86949899 115.16289984\n",
      " 117.73100047 138.0928029  170.05260063 159.64630333 160.53940024\n",
      " 155.14419993 125.27730024 175.62459942 157.23060334 125.13260024\n",
      "  93.71119972  77.82830032 120.67250023 119.13749966 167.37950023\n",
      "  88.17000034 125.2665003   91.28890061 117.61480012 121.14969946\n",
      " 136.73090046 115.66390082 114.95190082 148.1035994  107.10380101\n",
      " 104.54080251  87.0697978  126.52880068 117.70430001 154.73379932\n",
      " 119.60370024 108.30409987 108.25129854  93.18530058 127.22389738\n",
      "  75.01010047 113.61009891 121.32409987 111.33139909 119.00429892\n",
      " 120.46309941 158.39039991 166.66550078 146.61029645  86.05379889\n",
      "  94.30190045  86.94059923  90.51419998 118.97060078 126.40710074\n",
      " 127.46819945 169.7046995  122.34299921 117.30399873  98.31070028\n",
      " 168.63020085 143.07219884 131.97370276 121.1978022  121.2763995\n",
      " 119.77670069 114.41280144 118.17140062 106.98090077 127.97550099\n",
      " 114.0392996  107.16400002 116.86970062 119.76159875  89.03820056\n",
      "  88.23219857 145.93760132 127.22259998 113.49410057 109.95379836\n",
      " 108.26299887  76.92939932 169.47050138 114.02759915 121.59019917\n",
      " 127.75830151 155.01619825  91.86929969 135.6276012  159.00870339\n",
      " 125.32140066 125.43940067 130.54740158 115.18670065 119.8274002\n",
      "  92.00659978 110.25069916 168.34719879 157.60709914 114.24559972\n",
      " 106.93890105  79.9937993  113.27910021 125.83690056 107.11919928\n",
      " 119.2182011  155.75820314 160.1724983  120.52789995 135.66330242\n",
      " 101.33170007 117.41549799 119.23430027 113.02440074 102.80879927\n",
      " 160.10349734  99.00210014 147.47299914 125.69120081 170.06779939\n",
      " 125.5589986  127.24669763 127.44330126 113.66369927 113.27100085\n",
      " 123.68659933 102.25319897  89.4395999  124.72589964 101.55959952\n",
      " 107.15719929 113.22840055 117.41130065  98.92559923 121.8298004\n",
      " 163.0082987   87.27829871 106.8824999  117.30600077 127.802201\n",
      " 123.86830053  80.77809933 120.27640047 158.70109758  88.03659957\n",
      " 110.23549966 118.80299956 172.48729852 102.9696991  105.90980051\n",
      " 122.56080002 158.62779721  87.50669829  93.05410047 113.23280039\n",
      " 177.29970006 114.55509974 119.19940022  94.697201   125.5302002\n",
      " 166.43790038 114.87060047 116.88080148  88.2978987  148.57480054\n",
      " 120.47109942  89.50099973 112.43150055 117.40380032 118.92400105\n",
      "  88.07499939  94.19650002 116.97570004 118.76680174 120.28030026\n",
      " 126.84649771 121.91709988 150.21520017 165.36140026 118.57819961\n",
      " 120.29420105 151.28649967 118.345999   172.80429876 105.89119932\n",
      " 104.87550158 149.53730056 113.80360023 124.84190123 147.3928998\n",
      " 119.77080106 115.13550038 112.64980033 113.55390225 140.95030143\n",
      " 117.73179778 103.03460061 115.79550112 103.77040191  98.48200027\n",
      " 117.3454006   90.58590009  91.76270018 153.30119862 102.66169979\n",
      " 154.97910073 114.45670176 139.08680117  90.11909896 115.48099938\n",
      " 115.4348996  123.00340035 121.74320033 165.33680123  92.8558994\n",
      " 135.65960207 121.34789932 120.80020046 104.90470033 141.63250276\n",
      " 121.47479928 116.63030044 113.72920088 127.23919738 122.46959957\n",
      " 125.8199993  121.25560032  86.84769884 132.41620141 145.75770137\n",
      "  92.69059941 158.4985993  158.7375031  126.41569901 164.95599988\n",
      " 108.80659949 110.03460099 103.81139877  94.38910061 127.80630292\n",
      " 107.11810051 161.10680013 121.78650022 132.09410002 130.56360156\n",
      " 161.09689882  90.1069991  175.33290138 128.04559986 126.90579789\n",
      "  86.28299893 124.55589952 150.2235969   89.61320025 107.15629977\n",
      " 109.01120007  84.38839934 136.26340005 155.0433026  138.97330369\n",
      "  74.41470018 152.57460116 125.65119977 126.75849976 127.3403993\n",
      " 108.59779956 156.41030021 114.69080104 117.03600121 125.31799935\n",
      " 154.1242014  121.40749986 156.44039846  92.84290037 125.5251016\n",
      " 125.66090064  88.10170084  92.17809926 126.05969977 128.49390331\n",
      " 113.10640023 117.78769778 121.04159991 127.13049767 119.61350112\n",
      " 136.52810091  94.05209934 119.81120016 112.82420108  94.2911995\n",
      " 108.66060022  86.97009925 109.0694995   89.69599998  92.47790019\n",
      " 131.60670316 162.4574003   89.40140013 119.73410084 133.28610159\n",
      " 123.76680005 128.53110206 102.01399853  88.97979875 131.85720008\n",
      " 120.05090059 108.44169996 168.94600055 115.18410046  86.540699\n",
      " 118.79440049  91.09899944 161.5120002  116.37340044 121.56800013\n",
      " 160.29389782 120.1547993  112.76499949 108.50229851 126.74229982\n",
      "  76.10920064 103.00529977 127.71830273 121.91049984  92.53099984\n",
      " 132.23000067 117.98990126 115.94979986 154.47640265 159.01220044\n",
      " 110.24109984 156.1199974  119.3906009  160.55150101 118.81529993\n",
      " 157.23529888 115.09399961 116.40320019 147.42339885 114.7962005\n",
      " 125.75139888 164.95159958 117.59990036 125.11179938 153.11320332\n",
      " 153.39400247 132.17390101 114.84850047 121.19310222 124.70830053\n",
      "  89.77480022 122.92609994 155.19110122 111.61690031 106.68299997\n",
      " 161.70330131 118.6126998  165.60070035 134.12970066 114.99919986\n",
      " 152.97939923 168.88720077 114.59810012 114.22750141 157.85819862\n",
      "  85.45769887 127.1049     127.92410067 129.00220002 124.2241007\n",
      " 123.61700058  90.61770081 153.32480009  97.07769969 137.50460009\n",
      "  88.92419917 107.07480026 114.91960024 112.64410109 124.16029943\n",
      "  91.357999   125.4125011  162.37469832 119.84749882 165.14150158\n",
      " 126.9412975  112.20380029 127.61389913  95.31199901  91.13559969\n",
      " 102.94039909 120.82459972  83.37689923 126.482      160.42770475\n",
      " 117.31330104 118.27689978 119.82900004 122.6232995  120.04450113\n",
      " 121.46960062 118.04120061 107.08219989 148.07299981 125.92879851\n",
      " 115.6223008   74.07230011 127.81810089 154.36760047 122.01390014\n",
      " 125.60050071  88.80600032 103.56329874 124.38140029 120.35440063\n",
      "  73.43980095 151.84910022 121.05470008 104.50830008  86.25139791\n",
      " 115.07609898 172.27949816 119.83190035 159.58709837 113.25639973\n",
      " 121.70390006 118.3461014   96.00199976 118.55329994 125.83650045\n",
      " 118.63719954  96.29420074 154.14090171 122.12369998 147.03360055\n",
      " 158.98820188 113.9130001  122.49779927 148.75499764 127.31710021\n",
      " 165.91520098 136.23980031 120.03000024 167.7354986  108.2483995\n",
      " 121.83559879 139.43470156 106.55199927]\n"
     ]
    }
   ],
   "source": [
    "reg = RandomForestRegressor()\n",
    "reg.fit(X_train,y_train)\n",
    "pred = reg.predict(X_test)\n",
    "print(y_test,)"
   ]
  },
  {
   "cell_type": "code",
   "execution_count": null,
   "id": "92a6b6c2",
   "metadata": {},
   "outputs": [],
   "source": []
  },
  {
   "cell_type": "code",
   "execution_count": null,
   "id": "11d360d6",
   "metadata": {},
   "outputs": [],
   "source": []
  },
  {
   "cell_type": "code",
   "execution_count": null,
   "id": "926b5f61",
   "metadata": {},
   "outputs": [],
   "source": []
  }
 ],
 "metadata": {
  "kernelspec": {
   "display_name": "Python 3 (ipykernel)",
   "language": "python",
   "name": "python3"
  },
  "language_info": {
   "codemirror_mode": {
    "name": "ipython",
    "version": 3
   },
   "file_extension": ".py",
   "mimetype": "text/x-python",
   "name": "python",
   "nbconvert_exporter": "python",
   "pygments_lexer": "ipython3",
   "version": "3.10.6"
  }
 },
 "nbformat": 4,
 "nbformat_minor": 5
}
